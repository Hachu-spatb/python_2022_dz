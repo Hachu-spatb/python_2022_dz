{
  "cells": [
    {
      "cell_type": "markdown",
      "id": "101e7402",
      "metadata": {
        "id": "101e7402"
      },
      "source": [
        "# Продолжение numpy, matplotlib\n",
        "\n",
        "В прошлый раз мы научились работать с массивами в numpy. В этот раз мы узнаем о дополнительном функционале в библиотеке numpy и попрактикуемся чуть больше в визуализации."
      ]
    },
    {
      "cell_type": "markdown",
      "id": "3269bdbd",
      "metadata": {
        "id": "3269bdbd"
      },
      "source": [
        "## Объекты\n",
        "В стандартный набор для работы с массивами входят следующие функции:\n",
        "- `np.arange` -- возвращает массив точек на равноудаленных с определенным шагом (по умолчанию шаг=1)\n",
        "- `numpy.linspace` -- возвращает массив определенно количества точек между заданными границами\n",
        "- `numpy.logspace` -- возвращает массив определенно количества точек между заданными границами в логарифмическом масштабе\n",
        "- `np.eye` -- создает двумерный массив в виде единичной матрицы\n",
        "- `np.ones` -- создает массив определенного размера заполненный 1\n",
        "- `np.zeros` -- создает массив определенного размера заполненный 0"
      ]
    },
    {
      "cell_type": "code",
      "execution_count": null,
      "id": "162a747b",
      "metadata": {
        "colab": {
          "base_uri": "https://localhost:8080/"
        },
        "id": "162a747b",
        "outputId": "2703b8e8-7ff0-4eda-b69c-20b0ef118105"
      },
      "outputs": [
        {
          "output_type": "stream",
          "name": "stdout",
          "text": [
            "arange(3) [0 1 2]\n",
            "arange(-3, 3) [-3 -2 -1  0  1  2]\n",
            "arange(3, 10.1, 1) [ 3.  4.  5.  6.  7.  8.  9. 10.]\n",
            "linspace(3, 10, 8) [ 3.  4.  5.  6.  7.  8.  9. 10.]\n",
            "logspace(-4, 0, 5) [1.e-04 1.e-03 1.e-02 1.e-01 1.e+00]\n",
            "eye(5)\n",
            " [[1. 0. 0. 0. 0.]\n",
            " [0. 1. 0. 0. 0.]\n",
            " [0. 0. 1. 0. 0.]\n",
            " [0. 0. 0. 1. 0.]\n",
            " [0. 0. 0. 0. 1.]]\n",
            "ones(10) [1. 1. 1. 1. 1. 1. 1. 1. 1. 1.]\n",
            "zeros(10) [0. 0. 0. 0. 0. 0. 0. 0. 0. 0.]\n"
          ]
        }
      ],
      "source": [
        "import numpy as np\n",
        "\n",
        "print(\"arange(3)\", np.arange(3))\n",
        "print(\"arange(-3, 3)\", np.arange(-3, 3))\n",
        "print(\"arange(3, 10.1, 1)\", np.arange(3, 10.1, 1))\n",
        "print(\"linspace(3, 10, 8)\", np.linspace(3, 10, 8))\n",
        "print(\"logspace(-4, 0, 5)\", np.logspace(-4, 0, 5))\n",
        "print(\"eye(5)\\n\", np.eye(5))\n",
        "print(\"ones(10)\", np.ones(10))\n",
        "print(\"zeros(10)\", np.zeros(10))"
      ]
    },
    {
      "cell_type": "markdown",
      "id": "ab09e4a3",
      "metadata": {
        "id": "ab09e4a3"
      },
      "source": [
        "## Методы объектов\n",
        "\n",
        "Для каждого массива определены следующие методы (операции, которые можно совершать с массивом из **коробки**):\n",
        "- `sum` -- просуммировать элементы\n",
        "- `mean` -- усреднить элементы\n",
        "- `std` -- посчитать среднеквадратичное отклонение\n",
        "- `min` -- найти значение минимального элемента\n",
        "- `max` -- найти значение максимального элемента\n",
        "- `argmin` -- найти индекс минимального элемента\n",
        "- `argmax` -- найти значение максимального элемента\n",
        "- `tolist` -- превратить массив в список\n",
        "- `tobytes` -- превратить массив в байт-строку"
      ]
    },
    {
      "cell_type": "code",
      "execution_count": null,
      "id": "4923fae3",
      "metadata": {
        "id": "4923fae3",
        "outputId": "4ae56331-66c8-4117-86a9-1dfc2f31b668"
      },
      "outputs": [
        {
          "name": "stdout",
          "output_type": "stream",
          "text": [
            "[[ 0.  1.  2.  3.  4.  5.]\n",
            " [ 6.  7.  8.  9. 10. 11.]\n",
            " [12. 13. 14. 15. 16. 17.]\n",
            " [18. 19. 20. 21. 22. 23.]\n",
            " [24. 25. 26. 27. 28. 29.]\n",
            " [30. 31. 32. 33. 34. 35.]] \n",
            "\n",
            "[ 15.  51.  87. 123. 159. 195.] \n",
            "\n",
            "[15. 16. 17. 18. 19. 20.] \n",
            "\n",
            "10.388294694831615 \n",
            "\n",
            "0 \n",
            "\n",
            "[5 5 5 5 5 5] \n",
            "\n",
            "[[0.0, 1.0, 2.0, 3.0, 4.0, 5.0], [6.0, 7.0, 8.0, 9.0, 10.0, 11.0], [12.0, 13.0, 14.0, 15.0, 16.0, 17.0], [18.0, 19.0, 20.0, 21.0, 22.0, 23.0], [24.0, 25.0, 26.0, 27.0, 28.0, 29.0], [30.0, 31.0, 32.0, 33.0, 34.0, 35.0]] \n",
            "\n",
            "b'\\x00\\x00\\x00\\x00\\x00\\x00\\x00\\x00\\x00\\x00\\x00\\x00\\x00\\x00\\xf0?\\x00\\x00\\x00\\x00\\x00\\x00\\x00@\\x00\\x00\\x00\\x00\\x00\\x00\\x08@\\x00\\x00\\x00\\x00\\x00\\x00\\x10@\\x00\\x00\\x00\\x00\\x00\\x00\\x14@\\x00\\x00\\x00\\x00\\x00\\x00\\x18@\\x00\\x00\\x00\\x00\\x00\\x00\\x1c@\\x00\\x00\\x00\\x00\\x00\\x00 @\\x00\\x00\\x00\\x00\\x00\\x00\"@\\x00\\x00\\x00\\x00\\x00\\x00$@\\x00\\x00\\x00\\x00\\x00\\x00&@\\x00\\x00\\x00\\x00\\x00\\x00(@\\x00\\x00\\x00\\x00\\x00\\x00*@\\x00\\x00\\x00\\x00\\x00\\x00,@\\x00\\x00\\x00\\x00\\x00\\x00.@\\x00\\x00\\x00\\x00\\x00\\x000@\\x00\\x00\\x00\\x00\\x00\\x001@\\x00\\x00\\x00\\x00\\x00\\x002@\\x00\\x00\\x00\\x00\\x00\\x003@\\x00\\x00\\x00\\x00\\x00\\x004@\\x00\\x00\\x00\\x00\\x00\\x005@\\x00\\x00\\x00\\x00\\x00\\x006@\\x00\\x00\\x00\\x00\\x00\\x007@\\x00\\x00\\x00\\x00\\x00\\x008@\\x00\\x00\\x00\\x00\\x00\\x009@\\x00\\x00\\x00\\x00\\x00\\x00:@\\x00\\x00\\x00\\x00\\x00\\x00;@\\x00\\x00\\x00\\x00\\x00\\x00<@\\x00\\x00\\x00\\x00\\x00\\x00=@\\x00\\x00\\x00\\x00\\x00\\x00>@\\x00\\x00\\x00\\x00\\x00\\x00?@\\x00\\x00\\x00\\x00\\x00\\x00@@\\x00\\x00\\x00\\x00\\x00\\x80@@\\x00\\x00\\x00\\x00\\x00\\x00A@\\x00\\x00\\x00\\x00\\x00\\x80A@' \n",
            "\n"
          ]
        }
      ],
      "source": [
        "import numpy as np\n",
        "\n",
        "array = np.linspace(0, 35, 36).reshape(6, 6)\n",
        "\n",
        "print(array, \"\\n\")\n",
        "print(array.sum(axis=1), \"\\n\")\n",
        "print(array.mean(axis=0), \"\\n\")\n",
        "print(array.std(axis=(0, 1)), \"\\n\")\n",
        "print(array.argmin(), \"\\n\")\n",
        "print(array.argmax(axis=1), \"\\n\")\n",
        "print(array.tolist(), \"\\n\")\n",
        "print(array.tobytes(), \"\\n\")"
      ]
    },
    {
      "cell_type": "markdown",
      "id": "5615fcce",
      "metadata": {
        "id": "5615fcce"
      },
      "source": [
        "## Случайности\n",
        "\n",
        "В numpy реализован также пакет для работы со случайными величинами.\n",
        "\n",
        "В реальности, абсолютную случайность достичь невозможно. Никакой алгоритм не может повторить природную случайность. Поэтому при работе с алгоритмами, которые основаны на случайном выборе, говорят о псевдослучайности. Псевдослучайность -- математический алгоритм получения псевдослучайных величин.\n",
        "\n",
        "Псевдослучайны алгортмы могут давать длинную последовательность независимых событий. Повторяются они не очень быстро (можете попробовать проверить).\n",
        "\n",
        "Для псевдопоследовательности вводится понятие `seed`. Это параметр, который формально определяет начало нашей псевдопоследовательности. `seed` фиксируется для воспроизведения псевдо-эксперимента.\n",
        "\n",
        "Модуль, который отвечает за случайные величины находится по пути\n",
        "```python\n",
        "import numpy as np\n",
        "np.random\n",
        "```\n",
        "Рассмотрим основные функции:\n",
        "- `normal` -- нормальное распределение\n",
        "- `poisson` -- распределение Пуассона\n",
        "- `randint` -- равномерное распределение целых чисел\n",
        "- `rand` -- равномерное распределение на отрезке [0, 1]\n",
        "- `seed` -- устанавливает `seed` псевдослучайной последовательности"
      ]
    },
    {
      "cell_type": "code",
      "execution_count": null,
      "id": "43e88286",
      "metadata": {
        "colab": {
          "base_uri": "https://localhost:8080/"
        },
        "id": "43e88286",
        "outputId": "09c54da5-c497-486d-f521-531e7fde4435"
      },
      "outputs": [
        {
          "output_type": "stream",
          "name": "stdout",
          "text": [
            "[ 59.6714153   -3.82643012  74.76885381 162.30298564 -13.41533747\n",
            " -13.41369569 167.92128155  86.74347292 -36.94743859  64.25600436] \n",
            "\n",
            "[ 7  8  9 11  8 10  7 11 11  8 12  6  7  8 10] \n",
            "\n",
            "[17 11  1  9  3 13 15 14  7 13  7 15 12 17 14 12  8 14 12  0  6  8  0] \n",
            "\n",
            "[0.19871568 0.00552212 0.81546143 0.70685734 0.72900717 0.77127035\n",
            " 0.07404465 0.35846573 0.11586906 0.86310343 0.62329813 0.33089802] \n",
            "\n"
          ]
        }
      ],
      "source": [
        "import numpy as np\n",
        "\n",
        "np.random.seed(42)\n",
        "print(np.random.normal(10, 100, size=10), \"\\n\")\n",
        "print(np.random.poisson(10, size=15), \"\\n\")\n",
        "print(np.random.randint(20, size=23), \"\\n\")\n",
        "print(np.random.rand(12), \"\\n\")"
      ]
    },
    {
      "cell_type": "markdown",
      "id": "9b50837f",
      "metadata": {
        "id": "9b50837f"
      },
      "source": [
        "### numpy Задание\n",
        "\n",
        "1. Выставьте `seed` случайной последовательности в 1\n",
        "2. Сгенерируйте массив из 120 случайных равномернораспределенных чисел с отрезка [0, 1]\n",
        "3. Посчитайте среднее, среднеквадратичное отклонение и сумму для элементов предыдущего массива\n",
        "4. Превратите одномерный массив в двумерный размерности (12, 10)\n",
        "5. Посчитайте среднее, среднеквадратичное отклонение и сумму для элементов предыдущего массива вдоль направлений 0, 1 (для каждой величины должно быть по два вычисления)\n",
        "6. Найдите минимальные и максимальные значения в каждом столбце двумерного массива\n",
        "8. Найдите индексы минимальных и максимальных элементов в каждой строке двумерного массива"
      ]
    },
    {
      "cell_type": "code",
      "source": [
        "np.random.seed(27)\n",
        "a=np.random.rand(120)\n",
        "print(a, \"\\n\")\n",
        "print(sum(a)/len(a), \",\", a.std(), \",\", sum(a), \"\\n\") \n",
        "a.reshape(12, 10)\n",
        "x = a[.,0]\n",
        "y = a[.,1]"
      ],
      "metadata": {
        "colab": {
          "base_uri": "https://localhost:8080/",
          "height": 130
        },
        "id": "Jy9m2KToI3xr",
        "outputId": "bf6ffb7a-efcd-4d2d-dd08-57bed4f858a8"
      },
      "id": "Jy9m2KToI3xr",
      "execution_count": null,
      "outputs": [
        {
          "output_type": "error",
          "ename": "SyntaxError",
          "evalue": "ignored",
          "traceback": [
            "\u001b[0;36m  File \u001b[0;32m\"<ipython-input-44-82b3f3aa49e8>\"\u001b[0;36m, line \u001b[0;32m6\u001b[0m\n\u001b[0;31m    x = a[;;0]\u001b[0m\n\u001b[0m          ^\u001b[0m\n\u001b[0;31mSyntaxError\u001b[0m\u001b[0;31m:\u001b[0m invalid syntax\n"
          ]
        }
      ]
    },
    {
      "cell_type": "markdown",
      "id": "7be1bb74",
      "metadata": {
        "id": "7be1bb74"
      },
      "source": [
        "## Еще больше рисования\n",
        "\n",
        "В прошлый раз был разобран метод рисовки ломаной кривой и точек с *усами*. В этот раз предстоит узнать о гистограммах и просто точечных изображениях.\n",
        "\n",
        "Гистограммы применимы в случае экспериентов с большим количеством повторений. Например, количество частиц на счетчике Гейгера за определенный промежуток времени.\n",
        "\n",
        "Посмотрим на следующий пример, который генирирует по распределению Пуассона 10000 событий, а затем отображает их."
      ]
    },
    {
      "cell_type": "code",
      "execution_count": null,
      "id": "b9fba0cd",
      "metadata": {
        "colab": {
          "base_uri": "https://localhost:8080/",
          "height": 340
        },
        "id": "b9fba0cd",
        "outputId": "35e913cb-1090-4149-b2a2-0aed281babbf"
      },
      "outputs": [
        {
          "output_type": "display_data",
          "data": {
            "text/plain": [
              "<Figure size 1080x331.2 with 3 Axes>"
            ],
            "image/png": "[encoded data removed]"
          },
          "metadata": {
            "needs_background": "light"
          }
        }
      ],
      "source": [
        "import numpy as np\n",
        "from matplotlib import pyplot as plt\n",
        "\n",
        "np.random.seed(42)\n",
        "data = np.random.poisson(5, size=(10000,))\n",
        "\n",
        "fig, axs = plt.subplots(1, 3, figsize=(15, 4.6))\n",
        "\n",
        "axs[0].hist(data, label=\"coarse hist\")\n",
        "axs[1].hist(data, \"auto\", label=\"fine hist\")\n",
        "axs[2].hist(data, np.array([0, 4, 5, 6, 8.5, 9, 9.5, 10, 10.5, 15]), label=\"sad hist\")\n",
        "\n",
        "titles = [\"Strange data\", \"Interesting data\", \"Weird master\"]\n",
        "for ax, title in zip(axs, titles):\n",
        "    ax.set_title(title)\n",
        "    ax.set_ylabel(\"Events\")\n",
        "    ax.set_xlabel(\"value\")\n",
        "    ax.legend()\n",
        "\n",
        "plt.tight_layout()"
      ]
    },
    {
      "cell_type": "markdown",
      "id": "91488dd7",
      "metadata": {
        "id": "91488dd7"
      },
      "source": [
        "`pyplot.subplots` -- создает фигуру с несколькими окнами для отрисовки данных\n",
        "\n",
        "Как видно, одни те же данные могут быть совсем по разному отображены, если использовать разное разбиение (или же разный биннинг) для оси икс. Разбиение может быть задано вариативно (третий график).\n",
        "\n",
        "Отоброзим наши данные на плоскости. Первую половину точек возьмем в качестве первой координаты, вторую половину -- в качестве второй координаты"
      ]
    },
    {
      "cell_type": "code",
      "execution_count": null,
      "id": "20a702b6",
      "metadata": {
        "colab": {
          "base_uri": "https://localhost:8080/",
          "height": 297
        },
        "id": "20a702b6",
        "outputId": "fdc13358-eb39-48b9-b438-9df97e28c7f7"
      },
      "outputs": [
        {
          "output_type": "display_data",
          "data": {
            "text/plain": [
              "<Figure size 432x288 with 1 Axes>"
            ],
            "image/png": "[encoded data removed]"
          },
          "metadata": {
            "needs_background": "light"
          }
        }
      ],
      "source": [
        "import numpy as np\n",
        "from matplotlib import pyplot as plt\n",
        "\n",
        "np.random.seed(42)\n",
        "data = np.random.poisson(5, size=(10000,))\n",
        "x = data[:5000]\n",
        "y = data[5000:]\n",
        "\n",
        "plt.scatter(x, y, s=10)\n",
        "\n",
        "plt.tight_layout()"
      ]
    },
    {
      "cell_type": "markdown",
      "id": "a3f0af29",
      "metadata": {
        "id": "a3f0af29"
      },
      "source": [
        "В плоском виде это не информативно. Нельзя понять сколько точек попало в одну ячейку. Воспользуемся методом из numpy для разделения на разные корзины (бины)"
      ]
    },
    {
      "cell_type": "code",
      "execution_count": null,
      "id": "aa7c5ac4",
      "metadata": {
        "colab": {
          "base_uri": "https://localhost:8080/",
          "height": 277
        },
        "id": "aa7c5ac4",
        "outputId": "0f831fc9-704c-4e9c-a18d-73b7b16bf440"
      },
      "outputs": [
        {
          "output_type": "execute_result",
          "data": {
            "text/plain": [
              "<matplotlib.colorbar.Colorbar at 0x7f457181cc10>"
            ]
          },
          "metadata": {},
          "execution_count": 29
        },
        {
          "output_type": "display_data",
          "data": {
            "text/plain": [
              "<Figure size 288x288 with 2 Axes>"
            ],
            "image/png": "[encoded data removed]"
          },
          "metadata": {
            "needs_background": "light"
          }
        }
      ],
      "source": [
        "xedges = np.linspace(-0.5, 18.5, 19)\n",
        "yedges = np.linspace(-0.5, 18.5, 19)\n",
        "distribution, xedges, yedges = np.histogram2d(x, y, bins=(xedges, yedges))\n",
        "\n",
        "cs = plt.matshow(distribution)\n",
        "plt.colorbar(cs)"
      ]
    },
    {
      "cell_type": "markdown",
      "id": "efeb158c",
      "metadata": {
        "id": "efeb158c"
      },
      "source": [
        "## Data Analysis again\n",
        "\n",
        "\n",
        "Функция `fake_data_generator` выдает данные какого-то эксперимента. Но это не беда, ведь мы всегда можем обработать данные!\n",
        "\n",
        "Узнайте свой порядковый номер в группе и с помощью функции `get_numbers` получите свои входные значения для функции `fake_data_generator`.\n",
        "\n",
        "Полученные  экспериентальные данные используйте для нанесения на график. Затем попрбуйте *прикинуть* параметры прямой, которая могла бы проходить через экспериентальные точки.\n",
        "\n",
        "Пример генерации данных:\n",
        "```python\n",
        "student = 0  # Teacher's number\n",
        "x, y = fake_data_generator(*get_numbers(student))\n",
        "```\n",
        "\n",
        "В этот раз мы попробуем обработать данные с помощью numpy. Требуется воспользоваться функцией `numpy.polynomial`. На вход она принимает три аргумента: x/y координаты точек для подгонки и `deg=1` количество степеней свободы кривой. При значении `deg=1` кривая будет прямой.\n",
        "\n",
        "Попробуйте сгенерировать данные в соотвествии с порядковым номером в списке группы. После подгоните данные с использованием функции `numpy.polynomial`. Проверьте дополнительно методом МНК какие коэффициенты должны поучится для наклона и смещения прямой"
      ]
    },
    {
      "cell_type": "code",
      "source": [
        "import numpy as np\n",
        "import matplotlib\n",
        "from matplotlib import pyplot as plt\n",
        "\n",
        "def mnk0(x, y):\n",
        "    x_sq0 = (x**2).mean()\n",
        "    x0_sq = (x.mean())**2\n",
        "    y_sq0 = (y**2).mean()\n",
        "    y_sq0 = (y.mean())**2\n",
        "    xy0 = (x * y).mean()\n",
        "    x0 = (x).mean()\n",
        "    y0 = (y).mean()\n",
        "    k = (xy0-x0*y0)/(x_sq0-x0_sq)\n",
        "    return k, b\n",
        "\n",
        "def mnk_deg1(x, y):\n",
        "    n = len(x)\n",
        "    sy = y.sum()\n",
        "    sx = x.sum()\n",
        "    sxy = (x*y).sum()\n",
        "    sxx = (x*x).sum()\n",
        "    k = (-1*sx*sy+sxy*n)/(-1*sx*sx+sxx*n)\n",
        "    b = sy/n-k*sx/n\n",
        "    return k, b\n",
        "\n",
        "def mnk_deg2(x,y):\n",
        "    sy = sum(y)\n",
        "    sx = sum(x)\n",
        "    sxy = sum(x[i]*y[i] for i in range(len(x)))\n",
        "    sxx = sum(i**2 for i in x)\n",
        "    k = (-1*sx*sy+sxy)/(-1*sx*sx+sxx)\n",
        "    b = sy-k*sx\n",
        "    return k, b\n",
        "\n",
        "def get_numbers(student):\n",
        "    return student, (student + 4) % 5 + 3, student % 2 * 10 + 12, (student % 5 * 3 + 7) * 3\n",
        "\n",
        "def fake_data_generator(seed, vmin=0, vmax=10, size=100):\n",
        "    import numpy as np\n",
        "    np.random.seed(seed)\n",
        "    data = np.random.randint(vmin, vmax, size=20)\n",
        "    mean = data.mean()\n",
        "    std = data.std()\n",
        "    noise = np.random.normal(loc=mean, scale=std ** .5, size=size)\n",
        "    fake_x = np.array([-5 + i * 20 / size for i in range(size)])\n",
        "\n",
        "    linear = lambda x, k=(.5 - np.random.rand()) * 15, b=np.random.rand() * 10: k * x + b\n",
        "    linear_data = linear(fake_x)\n",
        "    fake_y = linear_data + noise\n",
        "    return fake_x, fake_y\n",
        "\n",
        "\n",
        "student = 8\n",
        "x, y = fake_data_generator(*get_numbers(student))\n",
        "\n",
        "fig = plt.figure(figsize=(7, 5))\n",
        "ax = fig.add_subplot()\n",
        "ax.scatter(x, y)\n",
        "k, b = mnk_deg1(x, y)\n",
        "print()\n",
        "print(k, b, \"\\n\")\n",
        "print(mnk_deg2(x, y), \"\\n\")\n",
        "ax.plot([-5, 15],[-5*k+b, k*15+ b], '--', color = 'red', alpha = 1, label = 'мнк')\n",
        "kp, bp = np.polyfit(x, y, 1)\n",
        "print(kp, bp, \"\\n\")\n",
        "ax.plot([-5, 15],[-5*kp+bp, kp*15+bp], ':', color = 'blue', alpha = 1, label = 'полифит')\n",
        "ax.set_xlabel('x')\n",
        "ax.set_ylabel('y')\n",
        "plt.grid()\n",
        "plt.legend()\n",
        "plt.show()"
      ],
      "metadata": {
        "colab": {
          "base_uri": "https://localhost:8080/",
          "height": 586
        },
        "id": "8gJxwnpNERD9",
        "outputId": "071be703-d816-4a56-b2c5-61af32c13c93"
      },
      "id": "8gJxwnpNERD9",
      "execution_count": null,
      "outputs": [
        {
          "output_type": "stream",
          "name": "stdout",
          "text": [
            "\n",
            "7.343836210445481 7.674725415445685 \n",
            "\n",
            "(8.996546911092823, -11.736641207495722) \n",
            "\n",
            "7.343836210445478 7.6747254154457165 \n",
            "\n"
          ]
        },
        {
          "output_type": "display_data",
          "data": {
            "text/plain": [
              "<Figure size 700x500 with 1 Axes>"
            ],
            "image/png": "[encoded data removed]"
          },
          "metadata": {}
        }
      ]
    }
  ],
  "metadata": {
    "kernelspec": {
      "display_name": "Python 3 (ipykernel)",
      "language": "python",
      "name": "python3"
    },
    "language_info": {
      "codemirror_mode": {
        "name": "ipython",
        "version": 3
      },
      "file_extension": ".py",
      "mimetype": "text/x-python",
      "name": "python",
      "nbconvert_exporter": "python",
      "pygments_lexer": "ipython3",
      "version": "3.8.10"
    },
    "colab": {
      "provenance": [],
      "collapsed_sections": []
    }
  },
  "nbformat": 4,
  "nbformat_minor": 5
}