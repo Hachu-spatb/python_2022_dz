{
  "cells": [
    {
      "cell_type": "markdown",
      "id": "cc9180ab",
      "metadata": {
        "id": "cc9180ab"
      },
      "source": [
        "# Set."
      ]
    },
    {
      "cell_type": "markdown",
      "id": "2905a413",
      "metadata": {
        "id": "2905a413"
      },
      "source": [
        "Множество `set` в Python имеет тот же смысл, что понятие множества в математике. `Множество` содержит неупорядоченный набор элементов. Множества поддерживают стандартные математические операции над ними: *объединение, пересечение, разность*. Возможно также добавление и удаление элементов, проверка их принадлежности множеству с помощью оператора `in`. При этом все элементы входят в `set` только один раз, добавление существующего элемента не изменяет множество. Элементами множества могут быть только `неизменяемые` типы, например, его элементами не могут быть списки.\n",
        "\n",
        "### Таблица по взаимодействию элемента и множества\n",
        "Операция  | Значение \n",
        "---|---\n",
        "`x in A`  | $x \\in A$, принадлежит ли элемент x множеству A \n",
        "`x not in A`  | $x \\notin A$ — то же, что `not (x in A)`\n",
        "`A.add(x)`  | добавить элемент x в множество A \n",
        "`A.discard(x)`  | удалить элемент x из множества A \n",
        "`A.remove(x)`  | удалить элемент x из множества A \n",
        "`A.pop()`  | удаляет из множества один случайный элемент и возвращает его "
      ]
    },
    {
      "cell_type": "code",
      "execution_count": 23,
      "id": "b764f6e7",
      "metadata": {
        "colab": {
          "base_uri": "https://localhost:8080/"
        },
        "id": "b764f6e7",
        "outputId": "f25006b3-6a74-49c4-d99a-45db986b4a0d"
      },
      "outputs": [
        {
          "output_type": "stream",
          "name": "stdout",
          "text": [
            "{1, 2, 3, 4}\n"
          ]
        }
      ],
      "source": [
        "a = {1, 2, 3}\n",
        "a.add(4)\n",
        "print(a)"
      ]
    },
    {
      "cell_type": "code",
      "execution_count": 24,
      "id": "10b6998a",
      "metadata": {
        "colab": {
          "base_uri": "https://localhost:8080/"
        },
        "id": "10b6998a",
        "outputId": "e8d9a1c7-6c1b-4860-b259-050799e7e016"
      },
      "outputs": [
        {
          "output_type": "stream",
          "name": "stdout",
          "text": [
            "{1, 2, 3, 4}\n"
          ]
        }
      ],
      "source": [
        "a.add(1)\n",
        "print(a)"
      ]
    },
    {
      "cell_type": "code",
      "execution_count": 25,
      "id": "8feef037",
      "metadata": {
        "colab": {
          "base_uri": "https://localhost:8080/"
        },
        "id": "8feef037",
        "outputId": "2169ae07-4fcc-4343-e00a-b6381342290b"
      },
      "outputs": [
        {
          "output_type": "stream",
          "name": "stdout",
          "text": [
            "False True\n"
          ]
        }
      ],
      "source": [
        "print(0 in a, 1 in a)"
      ]
    },
    {
      "cell_type": "markdown",
      "id": "96713d33",
      "metadata": {
        "id": "96713d33"
      },
      "source": [
        "Для удаления элементов из множества можно использовать `discard` и `remove`, их поведение различается тогда, когда удаляемый элемент отсутствует в множестве: `discard` не делает ничего, а метод `remove` генерирует исключение `KeyError`, которое вы увидите в одной из ячеек ниже."
      ]
    },
    {
      "cell_type": "code",
      "execution_count": 26,
      "id": "a59d5948",
      "metadata": {
        "colab": {
          "base_uri": "https://localhost:8080/"
        },
        "id": "a59d5948",
        "outputId": "6fe58311-c3c7-4fb1-ab4e-390ae4a0b10c"
      },
      "outputs": [
        {
          "output_type": "stream",
          "name": "stdout",
          "text": [
            "{2, 3, 4}\n"
          ]
        }
      ],
      "source": [
        "a.remove(1)\n",
        "print(a)"
      ]
    },
    {
      "cell_type": "code",
      "execution_count": 27,
      "id": "b33b0ea5",
      "metadata": {
        "colab": {
          "base_uri": "https://localhost:8080/",
          "height": 182
        },
        "id": "b33b0ea5",
        "outputId": "0876e161-a1c2-4c6b-b908-49eb6bb3ff74"
      },
      "outputs": [
        {
          "output_type": "error",
          "ename": "KeyError",
          "evalue": "ignored",
          "traceback": [
            "\u001b[0;31m---------------------------------------------------------------------------\u001b[0m",
            "\u001b[0;31mKeyError\u001b[0m                                  Traceback (most recent call last)",
            "\u001b[0;32m<ipython-input-27-e7d02a77f7c4>\u001b[0m in \u001b[0;36m<module>\u001b[0;34m\u001b[0m\n\u001b[0;32m----> 1\u001b[0;31m \u001b[0ma\u001b[0m\u001b[0;34m.\u001b[0m\u001b[0mremove\u001b[0m\u001b[0;34m(\u001b[0m\u001b[0;36m0\u001b[0m\u001b[0;34m)\u001b[0m\u001b[0;34m\u001b[0m\u001b[0;34m\u001b[0m\u001b[0m\n\u001b[0m\u001b[1;32m      2\u001b[0m \u001b[0mprint\u001b[0m\u001b[0;34m(\u001b[0m\u001b[0ma\u001b[0m\u001b[0;34m)\u001b[0m\u001b[0;34m\u001b[0m\u001b[0;34m\u001b[0m\u001b[0m\n",
            "\u001b[0;31mKeyError\u001b[0m: 0"
          ]
        }
      ],
      "source": [
        "a.remove(0)\n",
        "print(a)"
      ]
    },
    {
      "cell_type": "code",
      "execution_count": 28,
      "id": "c1a18deb",
      "metadata": {
        "id": "c1a18deb",
        "colab": {
          "base_uri": "https://localhost:8080/"
        },
        "outputId": "1dae4a6a-849c-426a-9dfc-424f1566c498"
      },
      "outputs": [
        {
          "output_type": "stream",
          "name": "stdout",
          "text": [
            "{2, 3, 4}\n"
          ]
        }
      ],
      "source": [
        "print(a)"
      ]
    },
    {
      "cell_type": "code",
      "execution_count": 29,
      "id": "bae1b5de",
      "metadata": {
        "id": "bae1b5de",
        "colab": {
          "base_uri": "https://localhost:8080/"
        },
        "outputId": "9abac448-949d-46ab-964a-d8bf3feb6804"
      },
      "outputs": [
        {
          "output_type": "stream",
          "name": "stdout",
          "text": [
            "{3, 4}\n"
          ]
        }
      ],
      "source": [
        "a.discard(2)\n",
        "print(a)"
      ]
    },
    {
      "cell_type": "code",
      "execution_count": 30,
      "id": "27de8b15",
      "metadata": {
        "id": "27de8b15",
        "colab": {
          "base_uri": "https://localhost:8080/"
        },
        "outputId": "941892fc-a80b-4ca0-abd8-964a674b182f"
      },
      "outputs": [
        {
          "output_type": "stream",
          "name": "stdout",
          "text": [
            "{3, 4}\n"
          ]
        }
      ],
      "source": [
        "a.discard(0)\n",
        "print(a)"
      ]
    },
    {
      "cell_type": "markdown",
      "id": "5f4bca28",
      "metadata": {
        "id": "5f4bca28"
      },
      "source": [
        "Для создания пустого множества или для получения множества из *итерируемого* объекта можно использовать конструктор множеств `set`:"
      ]
    },
    {
      "cell_type": "code",
      "execution_count": 31,
      "id": "68ccf6f0",
      "metadata": {
        "id": "68ccf6f0",
        "colab": {
          "base_uri": "https://localhost:8080/"
        },
        "outputId": "8c83eb0c-87e9-43ef-be39-5909dafb8c9b"
      },
      "outputs": [
        {
          "output_type": "stream",
          "name": "stdout",
          "text": [
            "set()\n",
            "{1}\n"
          ]
        }
      ],
      "source": [
        "a = set()\n",
        "print(a)\n",
        "a.add(1)\n",
        "print(a)"
      ]
    },
    {
      "cell_type": "markdown",
      "id": "01353f80",
      "metadata": {
        "id": "01353f80"
      },
      "source": [
        "Конструкция ниже не работает, потому что фигурные скобки используются для создания пустых словарей `dict`, о которых будет сказано ниже."
      ]
    },
    {
      "cell_type": "code",
      "execution_count": 33,
      "id": "73ca6b59",
      "metadata": {
        "id": "73ca6b59",
        "colab": {
          "base_uri": "https://localhost:8080/",
          "height": 235
        },
        "outputId": "1ba92b4c-6a12-48e6-fde7-55e6c34a274e"
      },
      "outputs": [
        {
          "output_type": "stream",
          "name": "stdout",
          "text": [
            "{}\n"
          ]
        },
        {
          "output_type": "error",
          "ename": "AttributeError",
          "evalue": "ignored",
          "traceback": [
            "\u001b[0;31m---------------------------------------------------------------------------\u001b[0m",
            "\u001b[0;31mAttributeError\u001b[0m                            Traceback (most recent call last)",
            "\u001b[0;32m<ipython-input-33-c229c9b03979>\u001b[0m in \u001b[0;36m<module>\u001b[0;34m\u001b[0m\n\u001b[1;32m      1\u001b[0m \u001b[0ma\u001b[0m \u001b[0;34m=\u001b[0m \u001b[0;34m{\u001b[0m\u001b[0;34m}\u001b[0m\u001b[0;34m\u001b[0m\u001b[0;34m\u001b[0m\u001b[0m\n\u001b[1;32m      2\u001b[0m \u001b[0mprint\u001b[0m\u001b[0;34m(\u001b[0m\u001b[0ma\u001b[0m\u001b[0;34m)\u001b[0m\u001b[0;34m\u001b[0m\u001b[0;34m\u001b[0m\u001b[0m\n\u001b[0;32m----> 3\u001b[0;31m \u001b[0ma\u001b[0m\u001b[0;34m.\u001b[0m\u001b[0madd\u001b[0m\u001b[0;34m(\u001b[0m\u001b[0;36m1\u001b[0m\u001b[0;34m)\u001b[0m\u001b[0;34m\u001b[0m\u001b[0;34m\u001b[0m\u001b[0m\n\u001b[0m\u001b[1;32m      4\u001b[0m \u001b[0mprint\u001b[0m\u001b[0;34m(\u001b[0m\u001b[0ma\u001b[0m\u001b[0;34m)\u001b[0m\u001b[0;34m\u001b[0m\u001b[0;34m\u001b[0m\u001b[0m\n",
            "\u001b[0;31mAttributeError\u001b[0m: 'dict' object has no attribute 'add'"
          ]
        }
      ],
      "source": [
        "a = {}\n",
        "print(a)\n",
        "a.add(1)\n",
        "print(a)"
      ]
    },
    {
      "cell_type": "code",
      "execution_count": 34,
      "id": "a2c72d10",
      "metadata": {
        "id": "a2c72d10",
        "colab": {
          "base_uri": "https://localhost:8080/"
        },
        "outputId": "43cc426c-a0cc-4e91-aec4-f95cb2e53003"
      },
      "outputs": [
        {
          "output_type": "stream",
          "name": "stdout",
          "text": [
            "{1, 2, 3, 4}\n"
          ]
        }
      ],
      "source": [
        "a = [1, 2, 3, 4]\n",
        "print(set(a))"
      ]
    },
    {
      "cell_type": "code",
      "execution_count": 35,
      "id": "6aec8e48",
      "metadata": {
        "id": "6aec8e48",
        "colab": {
          "base_uri": "https://localhost:8080/"
        },
        "outputId": "9599a384-b8b1-4407-a1bc-a12d95190763"
      },
      "outputs": [
        {
          "output_type": "stream",
          "name": "stdout",
          "text": [
            "{1, 2, 3, 4}\n"
          ]
        }
      ],
      "source": [
        "a = [1, 2, 3, 4, 1]\n",
        "print(set(a))"
      ]
    },
    {
      "cell_type": "code",
      "execution_count": 36,
      "id": "5f28094e",
      "metadata": {
        "id": "5f28094e",
        "colab": {
          "base_uri": "https://localhost:8080/"
        },
        "outputId": "c3e75548-8666-4afd-ba83-beae1c899c90"
      },
      "outputs": [
        {
          "output_type": "stream",
          "name": "stdout",
          "text": [
            "{'a', 'b', 'd', 'c'}\n"
          ]
        }
      ],
      "source": [
        "a = \"abcd\"\n",
        "print(set(a))"
      ]
    },
    {
      "cell_type": "code",
      "execution_count": 37,
      "id": "1f6a55db",
      "metadata": {
        "id": "1f6a55db",
        "colab": {
          "base_uri": "https://localhost:8080/"
        },
        "outputId": "fc23792d-b587-45c1-ee54-ccae8d413ea6"
      },
      "outputs": [
        {
          "output_type": "stream",
          "name": "stdout",
          "text": [
            "{'a', 'b', 'd', 'c'}\n"
          ]
        }
      ],
      "source": [
        "a = \"abcda\"\n",
        "print(set(a))"
      ]
    },
    {
      "cell_type": "markdown",
      "id": "b22ea5f0",
      "metadata": {
        "id": "b22ea5f0"
      },
      "source": [
        "Операции над множествами можно записывать как коротко символами, так и названиями соответствующих функций:"
      ]
    },
    {
      "cell_type": "code",
      "execution_count": 38,
      "id": "09c3ec60",
      "metadata": {
        "id": "09c3ec60",
        "colab": {
          "base_uri": "https://localhost:8080/"
        },
        "outputId": "335fc791-75b1-4084-af08-655cc61aa4f8"
      },
      "outputs": [
        {
          "output_type": "stream",
          "name": "stdout",
          "text": [
            "{1, 2, 3, 4, 5, 6}\n",
            "{1, 2, 3, 4, 5, 6}\n"
          ]
        }
      ],
      "source": [
        "a = {1, 2, 3, 4}\n",
        "b = {3, 4, 5, 6}\n",
        "print(a.union(b))\n",
        "print(a | b)"
      ]
    },
    {
      "cell_type": "code",
      "execution_count": 39,
      "id": "6f286d8d",
      "metadata": {
        "id": "6f286d8d",
        "colab": {
          "base_uri": "https://localhost:8080/"
        },
        "outputId": "1daf63ad-a936-473c-bbba-fa8f4469280c"
      },
      "outputs": [
        {
          "output_type": "stream",
          "name": "stdout",
          "text": [
            "{3, 4}\n",
            "{3, 4}\n"
          ]
        }
      ],
      "source": [
        "a = {1, 2, 3, 4}\n",
        "b = {3, 4, 5, 6}\n",
        "print(a.intersection(b))\n",
        "print(a & b)"
      ]
    },
    {
      "cell_type": "code",
      "execution_count": 43,
      "id": "14b1a2b6",
      "metadata": {
        "id": "14b1a2b6",
        "colab": {
          "base_uri": "https://localhost:8080/"
        },
        "outputId": "7aeb7080-59e1-46ee-a78a-84d3967127da"
      },
      "outputs": [
        {
          "output_type": "stream",
          "name": "stdout",
          "text": [
            "{1, 2}\n",
            "{1, 2}\n"
          ]
        }
      ],
      "source": [
        "a = {1, 2, 3, 4}\n",
        "b = {3, 4, 5, 6}\n",
        "print(a.difference(b))\n",
        "print(a - b)"
      ]
    },
    {
      "cell_type": "markdown",
      "id": "99ecf48b",
      "metadata": {
        "id": "99ecf48b"
      },
      "source": [
        "Симметрическая разность двух множеств - множество, состоящее из элементов, входящих в одно и только одно из данных множеств:"
      ]
    },
    {
      "cell_type": "code",
      "execution_count": 44,
      "id": "f58dd2af",
      "metadata": {
        "id": "f58dd2af",
        "colab": {
          "base_uri": "https://localhost:8080/"
        },
        "outputId": "9a2bc51b-d4b9-407a-b987-3b7cd3ee7626"
      },
      "outputs": [
        {
          "output_type": "stream",
          "name": "stdout",
          "text": [
            "{1, 2, 5, 6}\n",
            "{1, 2, 5, 6}\n"
          ]
        }
      ],
      "source": [
        "a = {1, 2, 3, 4}\n",
        "b = {3, 4, 5, 6}\n",
        "print(a.symmetric_difference(b))\n",
        "print(a ^ b)"
      ]
    },
    {
      "cell_type": "code",
      "execution_count": null,
      "id": "2fd6de37",
      "metadata": {
        "id": "2fd6de37"
      },
      "outputs": [],
      "source": [
        "a = {1, 2, 3, 4}\n",
        "b = {3, 4, 5, 6}\n",
        "print(a <= b)\n",
        "print(a.issubset(b))\n",
        "\n",
        "c = {3, 4}\n",
        "d = {3, 4, 5, 6}\n",
        "print(c <= d)\n",
        "print(c.issubset(d))"
      ]
    },
    {
      "cell_type": "code",
      "execution_count": 46,
      "id": "794fe0bb",
      "metadata": {
        "id": "794fe0bb",
        "colab": {
          "base_uri": "https://localhost:8080/"
        },
        "outputId": "e71bcf2b-8ffa-47c7-e0d1-2d283d288fa8"
      },
      "outputs": [
        {
          "output_type": "stream",
          "name": "stdout",
          "text": [
            "True\n",
            "False\n"
          ]
        }
      ],
      "source": [
        "a = {3, 4, 5, 6}\n",
        "b = {3, 4, 5, 6}\n",
        "print(a <= b)\n",
        "print(a < b)"
      ]
    },
    {
      "cell_type": "markdown",
      "id": "e978e84a",
      "metadata": {
        "id": "e978e84a"
      },
      "source": [
        "Существуют также операции наподобие `+=`, `-=`, `*=`, `/=`, `//=`:"
      ]
    },
    {
      "cell_type": "code",
      "execution_count": 47,
      "id": "c3e59589",
      "metadata": {
        "id": "c3e59589",
        "colab": {
          "base_uri": "https://localhost:8080/"
        },
        "outputId": "f09fe35f-df1a-48cd-c697-46d6405bf566"
      },
      "outputs": [
        {
          "output_type": "stream",
          "name": "stdout",
          "text": [
            "{3, 4}\n"
          ]
        }
      ],
      "source": [
        "a = {1, 2, 3, 4}\n",
        "b = {3, 4, 5, 6}\n",
        "a &= b\n",
        "print(a)"
      ]
    },
    {
      "cell_type": "code",
      "execution_count": 48,
      "id": "82ff0931",
      "metadata": {
        "id": "82ff0931",
        "colab": {
          "base_uri": "https://localhost:8080/"
        },
        "outputId": "86e39b32-9be3-4e94-e115-e4c302b9e81e"
      },
      "outputs": [
        {
          "output_type": "stream",
          "name": "stdout",
          "text": [
            "{3, 4}\n"
          ]
        }
      ],
      "source": [
        "a = {1, 2, 3, 4}\n",
        "b = {3, 4, 5, 6}\n",
        "a.intersection_update(b)\n",
        "print(a)"
      ]
    },
    {
      "cell_type": "code",
      "execution_count": 49,
      "id": "9e19f911",
      "metadata": {
        "id": "9e19f911",
        "colab": {
          "base_uri": "https://localhost:8080/"
        },
        "outputId": "f6fa1dfc-70fa-46ff-f6df-02f6f0671faa"
      },
      "outputs": [
        {
          "output_type": "stream",
          "name": "stdout",
          "text": [
            "{1, 2, 3, 4, 5, 6}\n"
          ]
        }
      ],
      "source": [
        "a = {1, 2, 3, 4}\n",
        "b = {3, 4, 5, 6}\n",
        "a |= b\n",
        "print(a)"
      ]
    },
    {
      "cell_type": "code",
      "execution_count": 50,
      "id": "3e07d561",
      "metadata": {
        "id": "3e07d561",
        "colab": {
          "base_uri": "https://localhost:8080/"
        },
        "outputId": "8292408b-4775-452c-9d39-5a620af04d8c"
      },
      "outputs": [
        {
          "output_type": "stream",
          "name": "stdout",
          "text": [
            "{1, 2, 3, 4, 5, 6}\n"
          ]
        }
      ],
      "source": [
        "a = {1, 2, 3, 4}\n",
        "b = {3, 4, 5, 6}\n",
        "a.update(b)\n",
        "print(a)"
      ]
    },
    {
      "cell_type": "code",
      "execution_count": 51,
      "id": "beabdba5",
      "metadata": {
        "id": "beabdba5",
        "colab": {
          "base_uri": "https://localhost:8080/"
        },
        "outputId": "3d381f5a-bcd3-437b-9423-6dec9c0184d2"
      },
      "outputs": [
        {
          "output_type": "stream",
          "name": "stdout",
          "text": [
            "{1, 2}\n"
          ]
        }
      ],
      "source": [
        "a = {1, 2, 3, 4}\n",
        "b = {3, 4, 5, 6}\n",
        "a -= b\n",
        "print(a)"
      ]
    },
    {
      "cell_type": "code",
      "execution_count": 52,
      "id": "0ccfb2a9",
      "metadata": {
        "id": "0ccfb2a9",
        "colab": {
          "base_uri": "https://localhost:8080/"
        },
        "outputId": "51287ef8-adaf-444c-9049-a773fd81efe4"
      },
      "outputs": [
        {
          "output_type": "stream",
          "name": "stdout",
          "text": [
            "{1, 2}\n"
          ]
        }
      ],
      "source": [
        "a = {1, 2, 3, 4}\n",
        "b = {3, 4, 5, 6}\n",
        "a.difference_update(b)\n",
        "print(a)"
      ]
    },
    {
      "cell_type": "markdown",
      "id": "c6ac45f8",
      "metadata": {
        "id": "c6ac45f8"
      },
      "source": [
        "### Сводная таблица операций с множествами:\n",
        "Операция  | Альтернатива | Значение \n",
        "---|---|---\n",
        "`A \\| B` | `A.union(B)`  | Возвращает множество, являющееся объединением множеств A и B. \n",
        "`A \\|= B` | `A.update(B)` | Записывает в A объединение множеств A и B. \n",
        "`A & B` | `A.intersection(B)`  | Возвращает множество, являющееся пересечением множеств A и B. \n",
        "`A &= B` | `A.intersection_update(B)`  | Записывает в A пересечение множеств A и B. \n",
        "`A - B` | `A.difference(B)`  | Возвращает разность множеств A и B (элементы, входящие в A, но не входящие в B). \n",
        "`A -= B` | `A.difference_update(B)`  | Записывает в A разность множеств A и B. \n",
        "`A ^ B` | `A.symmetric_difference(B)`  | Возвращает симметрическую разность множеств A и B (элементы, входящие в A или в B, но не в оба из них одновременно). \n",
        "`A ^= B` | `A.symmetric_difference_update(B)`  | Записывает в A симметрическую разность множеств A и B. \n",
        "`A <= B` | `A.issubset(B)`  | Возвращает True, если A является подмножеством B. \n",
        "`A >= B` | `A.issuperset(B)`  | Возвращает True, если B является подмножеством A. \n",
        "`A < B`  | | Эквивалентно A <= B and A != B \n",
        "`A > B`  | | Эквивалентно A >= B and A != B \n",
        "\n",
        "\n"
      ]
    },
    {
      "cell_type": "markdown",
      "id": "203fa32c",
      "metadata": {
        "id": "203fa32c"
      },
      "source": [
        "**Упражнение 0**. Вывести на экран все элементы множества A, которых нет в множестве B. Дописать код ниже."
      ]
    },
    {
      "cell_type": "code",
      "execution_count": 54,
      "id": "2f7da262",
      "metadata": {
        "id": "2f7da262"
      },
      "outputs": [],
      "source": [
        "A = set('bqlpzlkwehrlulsdhfliuywemrlkjhsdlfjhlzxcovt')\n",
        "B = set('zmxcvnboaiyerjhbziuxdytvasenbriutsdvinjhgik')"
      ]
    },
    {
      "cell_type": "markdown",
      "id": "3661d47e",
      "metadata": {
        "id": "3661d47e"
      },
      "source": [
        "**Упражнение 1.** Считать через `input` строку, состоящую из 3 слов и найти буквы, входящие в каждое из слов."
      ]
    },
    {
      "cell_type": "code",
      "execution_count": 55,
      "id": "d5aa2772",
      "metadata": {
        "id": "d5aa2772",
        "colab": {
          "base_uri": "https://localhost:8080/"
        },
        "outputId": "98165017-44ee-479a-e92b-5d49e8a9ec0f"
      },
      "outputs": [
        {
          "output_type": "stream",
          "name": "stdout",
          "text": [
            "dfgh dfghj dsfghjk\n",
            "{'h', 'd', 'f', 'g'}\n"
          ]
        }
      ],
      "source": [
        "a=input().split()\n",
        "print(str(set(a[0])&set(a[1])&set(a[2])))"
      ]
    },
    {
      "cell_type": "markdown",
      "id": "b18e5d22",
      "metadata": {
        "id": "b18e5d22"
      },
      "source": [
        "**Упражнение 2.** Считать через `input` строку, состоящую из произвольного числа слов и найти буквы, входящие в каждое из слов."
      ]
    },
    {
      "cell_type": "code",
      "execution_count": 56,
      "id": "157e055b",
      "metadata": {
        "id": "157e055b",
        "colab": {
          "base_uri": "https://localhost:8080/"
        },
        "outputId": "595cdb46-4d76-4e21-d5d2-b018d7fd01b2"
      },
      "outputs": [
        {
          "output_type": "stream",
          "name": "stdout",
          "text": [
            "fghjk fghj rtyff dfghj\n",
            "{'f'}\n"
          ]
        }
      ],
      "source": [
        "a=input().split()\n",
        "b=set(a[0])\n",
        "for i in range(len(a)):\n",
        "    b=b&set(a[i])\n",
        "print(b)"
      ]
    },
    {
      "cell_type": "markdown",
      "id": "e3534537",
      "metadata": {
        "id": "e3534537"
      },
      "source": [
        "**Упражнение 3\\*.** Считать через `input` несколько чисел через пробел и найти цифры, входящие в каждое из чисел. Использовать `while`."
      ]
    },
    {
      "cell_type": "code",
      "execution_count": 57,
      "id": "8808e2e6",
      "metadata": {
        "id": "8808e2e6"
      },
      "outputs": [],
      "source": []
    },
    {
      "cell_type": "markdown",
      "id": "4c401aa6",
      "metadata": {
        "id": "4c401aa6"
      },
      "source": [
        "# Dict."
      ]
    },
    {
      "cell_type": "markdown",
      "id": "b1a52ec5",
      "metadata": {
        "id": "b1a52ec5"
      },
      "source": [
        "Кроме множеств также часто используются словари. Элемент словаря `dict` - это пара `ключ: значение`.\n",
        "Ключи позволяют обращаться к данным не по индексу, как это реализовано в списках, а по любому удобному значению.\n",
        "\n",
        "### Сводная таблица по операциям со словарями:\n",
        "Операция  | Значение \n",
        "---|---\n",
        "`value = A[key]` | Получение элемента по ключу. Если элемента с заданным ключом в словаре нет, то возникает исключение KeyError. \n",
        "`value = A.get(key)` | Получение элемента по ключу. Если элемента в словаре нет, то get возвращает None. \n",
        "`value = A.get(key, default_value)` | То же, но вместо None метод get возвращает default_value. \n",
        "`key in A` | Проверить принадлежность ключа словарю. \n",
        "`key not in A` | То же, что not key in A. \n",
        "`A[key] = value` | Добавление нового элемента в словарь. \n",
        "`del A[key]` | Удаление пары ключ-значение с ключом key. Возбуждает исключение KeyError, если такого ключа нет. \n",
        "`if key in A: del A[key]` | Удаление пары ключ-значение с предварительной проверкой наличия ключа. \n",
        "`value = A.pop(key)` | Удаление пары ключ-значение с ключом key и возврат значения удаляемого элемента.Если такого ключа нет, то возбуждается KeyError. \n",
        "`value = A.pop(key, default_value)` | То же, но вместо генерации исключения возвращается default_value. \n",
        "`A.pop(key, None)` | Это позволяет проще всего организовать безопасное удаление элемента из словаря. \n",
        "`len(A)` | Возвращает количество пар ключ-значение, хранящихся в словаре. \n"
      ]
    },
    {
      "cell_type": "code",
      "execution_count": 66,
      "id": "b85122e9",
      "metadata": {
        "colab": {
          "base_uri": "https://localhost:8080/"
        },
        "id": "b85122e9",
        "outputId": "86be412b-1bcb-4b75-c079-ec78dcec9a0c"
      },
      "outputs": [
        {
          "output_type": "stream",
          "name": "stdout",
          "text": [
            "Берлин\n"
          ]
        }
      ],
      "source": [
        "d = {\"Россия\": \"Москва\", \"Франция\": \"Париж\", \"Германия\": \"Берлин\"}\n",
        "print(d[\"Германия\"])"
      ]
    },
    {
      "cell_type": "markdown",
      "id": "eef7c663",
      "metadata": {
        "id": "eef7c663"
      },
      "source": [
        "Такой способ хранения данных в данном случае является более естественным и удобным. Создание словаря и добавление элементов:"
      ]
    },
    {
      "cell_type": "code",
      "execution_count": 67,
      "id": "612972f3",
      "metadata": {
        "colab": {
          "base_uri": "https://localhost:8080/"
        },
        "id": "612972f3",
        "outputId": "b3a78d1e-7514-4271-9e06-1873792fcbb2"
      },
      "outputs": [
        {
          "output_type": "stream",
          "name": "stdout",
          "text": [
            "{'Россия': 'Москва'}\n"
          ]
        }
      ],
      "source": [
        "d = dict()\n",
        "d[\"Россия\"] = \"Москва\"\n",
        "print(d)"
      ]
    },
    {
      "cell_type": "markdown",
      "id": "fb99a70b",
      "metadata": {
        "id": "fb99a70b"
      },
      "source": [
        "Можно обращаться к ключам словаря, к значениям словаря, итерировать по ключам и по парам ключ-значение."
      ]
    },
    {
      "cell_type": "code",
      "execution_count": 68,
      "id": "0c99a37e",
      "metadata": {
        "colab": {
          "base_uri": "https://localhost:8080/"
        },
        "id": "0c99a37e",
        "outputId": "161850f3-cf8f-4908-f386-b15519c2ab2a"
      },
      "outputs": [
        {
          "output_type": "stream",
          "name": "stdout",
          "text": [
            "dict_keys(['Россия', 'Франция', 'Германия'])\n",
            "dict_values(['Москва', 'Париж', 'Берлин'])\n"
          ]
        }
      ],
      "source": [
        "d = {\"Россия\": \"Москва\", \"Франция\": \"Париж\", \"Германия\": \"Берлин\"}\n",
        "print(d.keys())\n",
        "print(d.values())"
      ]
    },
    {
      "cell_type": "code",
      "execution_count": 69,
      "id": "c4c30767",
      "metadata": {
        "colab": {
          "base_uri": "https://localhost:8080/"
        },
        "id": "c4c30767",
        "outputId": "3d2aef40-9295-421e-d8a8-f5105ca062a9"
      },
      "outputs": [
        {
          "output_type": "stream",
          "name": "stdout",
          "text": [
            "Москва\n",
            "Париж\n",
            "Берлин\n"
          ]
        }
      ],
      "source": [
        "for k in d.keys():\n",
        "    print(d[k])"
      ]
    },
    {
      "cell_type": "code",
      "execution_count": 70,
      "id": "95a8fdf1",
      "metadata": {
        "colab": {
          "base_uri": "https://localhost:8080/"
        },
        "id": "95a8fdf1",
        "outputId": "4e8502c5-8a4b-4640-917f-7930ade553c1"
      },
      "outputs": [
        {
          "output_type": "stream",
          "name": "stdout",
          "text": [
            "Россия Москва\n",
            "Франция Париж\n",
            "Германия Берлин\n"
          ]
        }
      ],
      "source": [
        "for k, v in d.items():\n",
        "    print(k, v)"
      ]
    },
    {
      "cell_type": "code",
      "execution_count": 71,
      "id": "7304ca5e",
      "metadata": {
        "colab": {
          "base_uri": "https://localhost:8080/"
        },
        "id": "7304ca5e",
        "outputId": "1cc584a2-bd7d-4b08-9fde-35f60af2b584"
      },
      "outputs": [
        {
          "output_type": "stream",
          "name": "stdout",
          "text": [
            "dict_items([('Россия', 'Москва'), ('Франция', 'Париж'), ('Германия', 'Берлин')])\n"
          ]
        }
      ],
      "source": [
        "print(d.items())"
      ]
    },
    {
      "cell_type": "code",
      "execution_count": 72,
      "id": "5c088447",
      "metadata": {
        "colab": {
          "base_uri": "https://localhost:8080/"
        },
        "id": "5c088447",
        "outputId": "f1f509f5-af0d-42c9-fa55-3747b5eeb463"
      },
      "outputs": [
        {
          "output_type": "stream",
          "name": "stdout",
          "text": [
            "[('Россия', 'Москва'), ('Франция', 'Париж'), ('Германия', 'Берлин')]\n"
          ]
        }
      ],
      "source": [
        "print(list(d.items()))"
      ]
    },
    {
      "cell_type": "markdown",
      "id": "f6560523",
      "metadata": {
        "id": "f6560523"
      },
      "source": [
        "Можем сортировать такие объекты, например, по странам в лексикографическом порядке:"
      ]
    },
    {
      "cell_type": "code",
      "execution_count": 73,
      "id": "c84c8635",
      "metadata": {
        "colab": {
          "base_uri": "https://localhost:8080/"
        },
        "id": "c84c8635",
        "outputId": "ca663e53-df08-4f90-cd81-9d01fd19e3ec"
      },
      "outputs": [
        {
          "output_type": "stream",
          "name": "stdout",
          "text": [
            "[('Германия', 'Берлин'), ('Россия', 'Москва'), ('Франция', 'Париж')]\n"
          ]
        }
      ],
      "source": [
        "d = list(d.items())\n",
        "d = sorted(d, key = lambda x: x[0])\n",
        "print(d)"
      ]
    },
    {
      "cell_type": "code",
      "source": [],
      "metadata": {
        "id": "fIsgVWeFX4AA"
      },
      "id": "fIsgVWeFX4AA",
      "execution_count": 73,
      "outputs": []
    },
    {
      "cell_type": "markdown",
      "id": "59e0e44f",
      "metadata": {
        "id": "59e0e44f"
      },
      "source": [
        "# Set comprehensions. Dict comprehensions."
      ]
    },
    {
      "cell_type": "markdown",
      "id": "83b2e7ad",
      "metadata": {
        "id": "83b2e7ad"
      },
      "source": [
        "Можно генерировать множества и словари по аналогии со списками:"
      ]
    },
    {
      "cell_type": "code",
      "execution_count": null,
      "id": "e19ab542",
      "metadata": {
        "colab": {
          "base_uri": "https://localhost:8080/"
        },
        "id": "e19ab542",
        "outputId": "f8dd7047-6cdb-47e4-fc24-38627b122cc3"
      },
      "outputs": [
        {
          "output_type": "stream",
          "name": "stdout",
          "text": [
            "[-5, -4, -3, -2, -1, 0, 1, 2, 3, 4]\n",
            "{0, 1, 2, 3, 4, -1, -5, -4, -3, -2}\n",
            "[5, 4, 3, 2, 1, 0, 1, 2, 3, 4]\n",
            "{0, 1, 2, 3, 4, 5}\n"
          ]
        }
      ],
      "source": [
        "a = [i for i in range(-5, 5)]\n",
        "print(a)\n",
        "a = {i for i in range(-5, 5)}\n",
        "print(a)\n",
        "a = [abs(i) for i in range(-5, 5)]\n",
        "print(a)\n",
        "a = {abs(i) for i in range(-5, 5)}\n",
        "print(a)"
      ]
    },
    {
      "cell_type": "markdown",
      "id": "5e1eae9b",
      "metadata": {
        "id": "5e1eae9b"
      },
      "source": [
        "Для определения порядкового номера символа в таблице символов ASCII используется функция `ord`:"
      ]
    },
    {
      "cell_type": "code",
      "execution_count": null,
      "id": "0a141a96",
      "metadata": {
        "colab": {
          "base_uri": "https://localhost:8080/"
        },
        "id": "0a141a96",
        "outputId": "f3753e98-f5d2-4c60-bc9e-a9e500480def"
      },
      "outputs": [
        {
          "output_type": "stream",
          "name": "stdout",
          "text": [
            "97\n",
            "65 90 97 122\n"
          ]
        }
      ],
      "source": [
        "s = \"a\"\n",
        "print(ord(s))\n",
        "print(ord('A'), ord('Z'), ord('a'), ord('z'))"
      ]
    },
    {
      "cell_type": "markdown",
      "id": "8ce05fc6",
      "metadata": {
        "id": "8ce05fc6"
      },
      "source": [
        "Обратная к ней функция, возвращающая символ по его порядковому номеру - `chr`:"
      ]
    },
    {
      "cell_type": "code",
      "execution_count": null,
      "id": "0974a43c",
      "metadata": {
        "colab": {
          "base_uri": "https://localhost:8080/"
        },
        "id": "0974a43c",
        "outputId": "81b4f380-a638-4d4f-e0e5-129613cfb2df"
      },
      "outputs": [
        {
          "output_type": "stream",
          "name": "stdout",
          "text": [
            "A Z a z\n"
          ]
        }
      ],
      "source": [
        "print(chr(65), chr(90), chr(97), chr(122))"
      ]
    },
    {
      "cell_type": "markdown",
      "id": "cb0ffe6d",
      "metadata": {
        "id": "cb0ffe6d"
      },
      "source": [
        "Создадим словарь, состоящий из пар элементов `номер буквы в таблице ASCII`: `буква`."
      ]
    },
    {
      "cell_type": "code",
      "execution_count": null,
      "id": "4aed5b7e",
      "metadata": {
        "colab": {
          "base_uri": "https://localhost:8080/"
        },
        "id": "4aed5b7e",
        "outputId": "78219bca-9474-46b7-a8b6-c8e6c62ae4eb"
      },
      "outputs": [
        {
          "output_type": "stream",
          "name": "stdout",
          "text": [
            "{65: 'A', 66: 'B', 67: 'C', 68: 'D', 69: 'E', 70: 'F', 71: 'G', 72: 'H', 73: 'I', 74: 'J', 75: 'K', 76: 'L', 77: 'M', 78: 'N', 79: 'O', 80: 'P', 81: 'Q', 82: 'R', 83: 'S', 84: 'T', 85: 'U', 86: 'V', 87: 'W', 88: 'X', 89: 'Y', 90: 'Z'}\n",
            "F\n"
          ]
        }
      ],
      "source": [
        "d = {i: chr(i) for i in range(65, 91)}\n",
        "print(d)\n",
        "print(d[70])"
      ]
    },
    {
      "cell_type": "markdown",
      "id": "c1e21462",
      "metadata": {
        "id": "c1e21462"
      },
      "source": [
        "**Упражнение 4.** Создайте аналогичный словарь для маленьких букв, выведите его, затем добавьте в него большие буквы и выведите итоговый словарь."
      ]
    },
    {
      "cell_type": "code",
      "execution_count": null,
      "id": "bdc88da2",
      "metadata": {
        "colab": {
          "base_uri": "https://localhost:8080/"
        },
        "id": "bdc88da2",
        "outputId": "cdb3987e-05e4-4621-9cca-1c379aa0d3c8"
      },
      "outputs": [
        {
          "output_type": "stream",
          "name": "stdout",
          "text": [
            "97\n",
            "['a', 'b', 'c', 'd', 'e', 'f', 'g', 'h', 'i', 'j', 'k', 'l', 'm', 'n', 'o', 'p', 'q', 'r', 's', 't', 'u', 'v', 'w', 'x', 'y', 'z']\n"
          ]
        }
      ],
      "source": [
        "print(ord('a')) \n",
        "print([chr(i) for i in range(97, 123)])"
      ]
    },
    {
      "cell_type": "markdown",
      "id": "a7c957f4",
      "metadata": {
        "id": "a7c957f4"
      },
      "source": [
        "**Упражнение 5.** Создайте словарь, в котором каждой букве (как ключу) будет соответствовать ее порядковый номер в алфавите (значение). Рекомендация: использовать функции `keys`, `values` или `items` для словаря из предыдущего упражнения, чтобы создать новый."
      ]
    },
    {
      "cell_type": "code",
      "execution_count": null,
      "id": "70071da3",
      "metadata": {
        "id": "70071da3",
        "colab": {
          "base_uri": "https://localhost:8080/"
        },
        "outputId": "3ba9d361-3a86-4ff8-975c-969e7cbc40c7"
      },
      "outputs": [
        {
          "output_type": "stream",
          "name": "stdout",
          "text": [
            "{1: 'A', 2: 'B', 3: 'C', 4: 'D', 5: 'E', 6: 'F', 7: 'G', 8: 'H', 9: 'I', 10: 'J', 11: 'K', 12: 'L', 13: 'M', 14: 'N', 15: 'O', 16: 'P', 17: 'Q', 18: 'R', 19: 'S', 20: 'T', 21: 'U', 22: 'V', 23: 'W', 24: 'X', 25: 'Y', 26: 'Z'}\n",
            "Z\n"
          ]
        }
      ],
      "source": [
        "d = {i-64: chr(i) for i in range(65, 91)}\n",
        "print(d)\n",
        "print(d[26])"
      ]
    },
    {
      "cell_type": "markdown",
      "id": "d4d2ca80",
      "metadata": {
        "id": "d4d2ca80"
      },
      "source": [
        "**Упражнение 6.** Считайте слово с клавиатуры и найдите для него сумму номеров букв. Если некоторые буквы в слове повторяются (используйте такое слово), нужно считать только по уникальным буквам. Например, для строк 'abc' и 'abcbc' сумма будет 1+2+3=6, для xyz или zyxyz 24+25+26=75"
      ]
    },
    {
      "cell_type": "code",
      "execution_count": 20,
      "id": "ab97878c",
      "metadata": {
        "id": "ab97878c",
        "colab": {
          "base_uri": "https://localhost:8080/"
        },
        "outputId": "58f2f330-76a1-48b2-96ec-3a626ccaec66"
      },
      "outputs": [
        {
          "output_type": "stream",
          "name": "stdout",
          "text": [
            "abcbc\n",
            "6\n"
          ]
        }
      ],
      "source": [
        "print(sum([ord(i) - ord('a') + 1 for i in set(input())]))"
      ]
    },
    {
      "cell_type": "markdown",
      "id": "8cb4046e",
      "metadata": {
        "id": "8cb4046e"
      },
      "source": [
        "**Упражнение 7.** Считайте с клавиатуры количество пар синонимов, затем сами пары синонимов, затем одно из слов среди этих пар. Выведите его синоним. Допишите код, заменив все TODO. Пример ввода:\n",
        "\n",
        "    3\n",
        "    Hello Hi\n",
        "    Bye Goodbye\n",
        "    List Array\n",
        "    Goodbye"
      ]
    },
    {
      "cell_type": "code",
      "execution_count": 74,
      "id": "7aea4c21",
      "metadata": {
        "id": "7aea4c21",
        "colab": {
          "base_uri": "https://localhost:8080/"
        },
        "outputId": "ea885630-c0b1-451b-e5fe-1ef937a9482d"
      },
      "outputs": [
        {
          "output_type": "stream",
          "name": "stdout",
          "text": [
            "3\n",
            "fghj fghj\n",
            "fghjkl sdfghj\n",
            "figoi yrugihojk\n",
            "figoi\n",
            "yrugihojk\n"
          ]
        }
      ],
      "source": [
        "n = int(input())\n",
        "d = dict()\n",
        "for i in range(n):\n",
        "    s=input().split()\n",
        "    d[s[0]]=s[1]\n",
        "s=input()\n",
        "if s in set(d.keys()):\n",
        "    print(d[s])\n",
        "else:\n",
        "    for i in range(n):\n",
        "        if d[list(d.keys())[i]]==s:\n",
        "            print(list(d.keys())[i])"
      ]
    },
    {
      "cell_type": "markdown",
      "id": "d4f833ac",
      "metadata": {
        "id": "d4f833ac"
      },
      "source": [
        "# Частотный анализ."
      ]
    },
    {
      "cell_type": "markdown",
      "id": "20546c74",
      "metadata": {
        "id": "20546c74"
      },
      "source": [
        "Вместо использования метода `count` для подсчета числа вхождений символа в большой текст лучше использовать `dict`. Для многократного поиска это будет работать быстрее, так как мы заполним словарь за один проход по данному тексту."
      ]
    },
    {
      "cell_type": "code",
      "execution_count": null,
      "id": "97cbd7e4",
      "metadata": {
        "id": "97cbd7e4",
        "colab": {
          "base_uri": "https://localhost:8080/"
        },
        "outputId": "59061861-6044-424a-fea3-3a531b2e4dcb"
      },
      "outputs": [
        {
          "output_type": "stream",
          "name": "stdout",
          "text": [
            "{'a': 5, 'b': 2, 'r': 2, 'c': 1, 'd': 1}\n"
          ]
        }
      ],
      "source": [
        "s = \"abracadabra\"\n",
        "d = dict()\n",
        "for i in s:\n",
        "    if i in d:\n",
        "        d[i] += 1\n",
        "    else:\n",
        "        d[i] = 1\n",
        "print(d)"
      ]
    },
    {
      "cell_type": "code",
      "execution_count": null,
      "id": "1e25a4b0",
      "metadata": {
        "id": "1e25a4b0",
        "colab": {
          "base_uri": "https://localhost:8080/"
        },
        "outputId": "cd7ba85e-53fa-49c6-9194-e70222127f52"
      },
      "outputs": [
        {
          "output_type": "stream",
          "name": "stdout",
          "text": [
            "5\n",
            "5\n"
          ]
        }
      ],
      "source": [
        "print(s.count('a'))\n",
        "print(d['a'])"
      ]
    },
    {
      "cell_type": "code",
      "execution_count": null,
      "id": "794b68f1",
      "metadata": {
        "id": "794b68f1",
        "colab": {
          "base_uri": "https://localhost:8080/"
        },
        "outputId": "0fbee24b-c816-45ca-d984-4fa432e840d8"
      },
      "outputs": [
        {
          "output_type": "stream",
          "name": "stdout",
          "text": [
            "abracadabraabracadabraabracadabraabracadabraabracadabraabracadabraabracadabraabracadabraabracadabraa\n"
          ]
        }
      ],
      "source": [
        "s = \"abracadabra\" * 1000000\n",
        "print(s[:100])"
      ]
    },
    {
      "cell_type": "code",
      "execution_count": null,
      "id": "aaa4527a",
      "metadata": {
        "id": "aaa4527a",
        "colab": {
          "base_uri": "https://localhost:8080/"
        },
        "outputId": "5e79557a-314b-4471-d8cf-39483a86979e"
      },
      "outputs": [
        {
          "output_type": "stream",
          "name": "stdout",
          "text": [
            "5000000\n",
            "0.0013370513916015625\n"
          ]
        }
      ],
      "source": [
        "import time\n",
        "d = dict()\n",
        "for i in s:\n",
        "    if i in d:\n",
        "        d[i] += 1\n",
        "    else:\n",
        "        d[i] = 1\n",
        "t1 = time.time()\n",
        "print(d['a'])\n",
        "t2 = time.time()\n",
        "print(t2 - t1)"
      ]
    },
    {
      "cell_type": "code",
      "execution_count": null,
      "id": "0225f5e3",
      "metadata": {
        "id": "0225f5e3",
        "colab": {
          "base_uri": "https://localhost:8080/"
        },
        "outputId": "ac629f07-74ac-4a97-821a-f8492e69dfb3"
      },
      "outputs": [
        {
          "output_type": "stream",
          "name": "stdout",
          "text": [
            "5000000\n",
            "0.01704239845275879\n"
          ]
        }
      ],
      "source": [
        "t3 = time.time()\n",
        "print(s.count('a'))\n",
        "t4 = time.time()\n",
        "print(t4 - t3)"
      ]
    },
    {
      "cell_type": "markdown",
      "id": "fb903399",
      "metadata": {
        "id": "fb903399"
      },
      "source": [
        "**Упражнение 8**. Считайте с клавиатуры строку, удалите из нее все цифры и пробелы. Создайте словарь, в котором ключами будут уникальные символы, а значениями их частота вхождения. Частотой вхождения называется отношение числа вхождений данного символа в исходную строку к числу символов в исходной строке."
      ]
    },
    {
      "cell_type": "code",
      "execution_count": 75,
      "id": "a82c1e51",
      "metadata": {
        "id": "a82c1e51",
        "colab": {
          "base_uri": "https://localhost:8080/"
        },
        "outputId": "936b3d29-3ed5-4d74-987e-e97c33f48f70"
      },
      "outputs": [
        {
          "output_type": "stream",
          "name": "stdout",
          "text": [
            "vbn dfgh fghjk fghj gthjk hyjk\n",
            "v - 0.04\n",
            "b - 0.04\n",
            "n - 0.04\n",
            "d - 0.04\n",
            "f - 0.12\n",
            "g - 0.16\n",
            "h - 0.2\n",
            "j - 0.16\n",
            "k - 0.12\n",
            "t - 0.04\n",
            "y - 0.04\n"
          ]
        }
      ],
      "source": [
        "a = input().translate({ord(i): None for i in '1234567890 '})\n",
        "n = len(a)\n",
        "while len(a)>0:\n",
        "    print(a[0], \"-\", a.count(a[0]) / n)\n",
        "    a=a.translate({ord(a[0]): None})"
      ]
    },
    {
      "cell_type": "markdown",
      "id": "b082dac3",
      "metadata": {
        "id": "b082dac3"
      },
      "source": [
        "# Collections."
      ]
    },
    {
      "cell_type": "markdown",
      "id": "ce4947f8",
      "metadata": {
        "id": "ce4947f8"
      },
      "source": [
        "Существуют также другие стандартные коллекции, которые позволяют решать некоторые задачи еще проще."
      ]
    },
    {
      "cell_type": "code",
      "execution_count": 76,
      "id": "57a20035",
      "metadata": {
        "id": "57a20035",
        "colab": {
          "base_uri": "https://localhost:8080/"
        },
        "outputId": "94829872-271f-443b-b76b-44ee5def26a0"
      },
      "outputs": [
        {
          "output_type": "execute_result",
          "data": {
            "text/plain": [
              "Counter({'red': 2, 'blue': 3, 'green': 1})"
            ]
          },
          "metadata": {},
          "execution_count": 76
        }
      ],
      "source": [
        "import collections\n",
        "cnt = collections.Counter()\n",
        "for word in ['red', 'blue', 'red', 'green', 'blue', 'blue']:\n",
        "    cnt[word] += 1\n",
        "cnt"
      ]
    },
    {
      "cell_type": "code",
      "execution_count": 77,
      "id": "81553050",
      "metadata": {
        "id": "81553050",
        "colab": {
          "base_uri": "https://localhost:8080/"
        },
        "outputId": "58dbd119-d851-42ff-b302-05d0d805fb68"
      },
      "outputs": [
        {
          "output_type": "execute_result",
          "data": {
            "text/plain": [
              "2"
            ]
          },
          "metadata": {},
          "execution_count": 77
        }
      ],
      "source": [
        "cnt['red']"
      ]
    },
    {
      "cell_type": "markdown",
      "id": "0834fd23",
      "metadata": {
        "id": "0834fd23"
      },
      "source": [
        "Можно сократить запись, переимпортировав из библиотеки конкретный модуль:"
      ]
    },
    {
      "cell_type": "code",
      "execution_count": 78,
      "id": "4dd6f478",
      "metadata": {
        "id": "4dd6f478",
        "colab": {
          "base_uri": "https://localhost:8080/"
        },
        "outputId": "b594e323-232c-4af2-ff1c-307ee520ef9e"
      },
      "outputs": [
        {
          "output_type": "stream",
          "name": "stdout",
          "text": [
            "['a', 'a', 'a', 'a', 'b', 'b']\n"
          ]
        }
      ],
      "source": [
        "from collections import Counter\n",
        "c = Counter(a=4, b=2, c=0, d=-2)\n",
        "print(sorted(c.elements()))"
      ]
    },
    {
      "cell_type": "code",
      "execution_count": 79,
      "id": "d4c0fb62",
      "metadata": {
        "id": "d4c0fb62",
        "colab": {
          "base_uri": "https://localhost:8080/"
        },
        "outputId": "932772af-2a4e-4ec7-cc03-045deec4230b"
      },
      "outputs": [
        {
          "output_type": "stream",
          "name": "stdout",
          "text": [
            "[('a', 5), ('b', 2), ('r', 2)]\n"
          ]
        }
      ],
      "source": [
        "print(collections.Counter('abracadabra').most_common(3))"
      ]
    },
    {
      "cell_type": "code",
      "execution_count": 80,
      "id": "77eec292",
      "metadata": {
        "id": "77eec292",
        "colab": {
          "base_uri": "https://localhost:8080/"
        },
        "outputId": "0e55b2dc-2518-4d15-ccab-483b274fd81f"
      },
      "outputs": [
        {
          "output_type": "stream",
          "name": "stdout",
          "text": [
            "Counter({'a': 3, 'b': 0, 'c': -3, 'd': -6})\n"
          ]
        }
      ],
      "source": [
        "c = Counter(a=4, b=2, c=0, d=-2)\n",
        "d = Counter(a=1, b=2, c=3, d=4)\n",
        "c.subtract(d)\n",
        "print(c)"
      ]
    },
    {
      "cell_type": "code",
      "execution_count": 81,
      "id": "cb239bab",
      "metadata": {
        "id": "cb239bab",
        "colab": {
          "base_uri": "https://localhost:8080/",
          "height": 182
        },
        "outputId": "3c798e3f-3651-4f08-8b8c-ccc5eaa78828"
      },
      "outputs": [
        {
          "output_type": "error",
          "ename": "AttributeError",
          "evalue": "ignored",
          "traceback": [
            "\u001b[0;31m---------------------------------------------------------------------------\u001b[0m",
            "\u001b[0;31mAttributeError\u001b[0m                            Traceback (most recent call last)",
            "\u001b[0;32m<ipython-input-81-fe7a556fb144>\u001b[0m in \u001b[0;36m<module>\u001b[0;34m\u001b[0m\n\u001b[1;32m      1\u001b[0m \u001b[0mc\u001b[0m \u001b[0;34m=\u001b[0m \u001b[0mCounter\u001b[0m\u001b[0;34m(\u001b[0m\u001b[0ma\u001b[0m\u001b[0;34m=\u001b[0m\u001b[0;36m10\u001b[0m\u001b[0;34m,\u001b[0m \u001b[0mb\u001b[0m\u001b[0;34m=\u001b[0m\u001b[0;36m5\u001b[0m\u001b[0;34m,\u001b[0m \u001b[0mc\u001b[0m\u001b[0;34m=\u001b[0m\u001b[0;36m0\u001b[0m\u001b[0;34m)\u001b[0m\u001b[0;34m\u001b[0m\u001b[0;34m\u001b[0m\u001b[0m\n\u001b[0;32m----> 2\u001b[0;31m \u001b[0mc\u001b[0m\u001b[0;34m.\u001b[0m\u001b[0mtotal\u001b[0m\u001b[0;34m(\u001b[0m\u001b[0;34m)\u001b[0m \u001b[0;31m# new for Python 3.10+\u001b[0m\u001b[0;34m\u001b[0m\u001b[0;34m\u001b[0m\u001b[0m\n\u001b[0m",
            "\u001b[0;31mAttributeError\u001b[0m: 'Counter' object has no attribute 'total'"
          ]
        }
      ],
      "source": [
        "c = Counter(a=10, b=5, c=0)\n",
        "c.total() # new for Python 3.10+"
      ]
    },
    {
      "cell_type": "markdown",
      "id": "bfddca35",
      "metadata": {
        "id": "bfddca35"
      },
      "source": [
        "С другими коллекциями вы можете познакомиться самостоятельно, их использование выходит за рамки упражнений и контеста."
      ]
    },
    {
      "cell_type": "code",
      "execution_count": null,
      "id": "38c7c7d0",
      "metadata": {
        "id": "38c7c7d0"
      },
      "outputs": [],
      "source": []
    }
  ],
  "metadata": {
    "kernelspec": {
      "display_name": "Python 3 (ipykernel)",
      "language": "python",
      "name": "python3"
    },
    "language_info": {
      "codemirror_mode": {
        "name": "ipython",
        "version": 3
      },
      "file_extension": ".py",
      "mimetype": "text/x-python",
      "name": "python",
      "nbconvert_exporter": "python",
      "pygments_lexer": "ipython3",
      "version": "3.7.11"
    },
    "colab": {
      "provenance": [],
      "collapsed_sections": [
        "c6ac45f8",
        "b1a52ec5"
      ]
    }
  },
  "nbformat": 4,
  "nbformat_minor": 5
}