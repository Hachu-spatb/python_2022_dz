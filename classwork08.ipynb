{
  "nbformat": 4,
  "nbformat_minor": 0,
  "metadata": {
    "colab": {
      "provenance": []
    },
    "kernelspec": {
      "name": "python3",
      "display_name": "Python 3"
    },
    "language_info": {
      "name": "python"
    }
  },
  "cells": [
    {
      "cell_type": "code",
      "source": [
        "import numpy as np\n",
        "import pandas as pd\n",
        "import matplotlib.pyplot as plt\n",
        "from collections import Counter"
      ],
      "metadata": {
        "id": "X5wnT8N4Uib3"
      },
      "execution_count": 63,
      "outputs": []
    },
    {
      "cell_type": "code",
      "execution_count": 1,
      "metadata": {
        "colab": {
          "base_uri": "https://localhost:8080/"
        },
        "id": "CgLLh8BBOqvn",
        "outputId": "1afdd507-25a4-420b-bcc9-e169786bab89"
      },
      "outputs": [
        {
          "output_type": "stream",
          "name": "stdout",
          "text": [
            "5\n",
            "4\n",
            "9\n"
          ]
        }
      ],
      "source": [
        "#ex1\n",
        "a=int(input())\n",
        "b=int(input())\n",
        "c=a**2-b**2\n",
        "print(c)"
      ]
    },
    {
      "cell_type": "code",
      "source": [
        "#ex2\n",
        "string = input()\n",
        "d = {'Спец.символы': 0, 'Буквы': 0, 'Цифры': 0}\n",
        "for i in string:\n",
        "    if i.isalpha():\n",
        "        d['Буквы'] += 1\n",
        "    elif i.isdigit():\n",
        "        d['Цифры'] += 1\n",
        "    else:\n",
        "        d['Спец.символы'] += 1\n",
        "\n",
        "print(d['Спец.символы'])"
      ],
      "metadata": {
        "colab": {
          "base_uri": "https://localhost:8080/"
        },
        "id": "6M8Y4XwTPkEo",
        "outputId": "1cb8ee1c-cc4a-49fe-9469-3edced0c66e9"
      },
      "execution_count": 3,
      "outputs": [
        {
          "output_type": "stream",
          "name": "stdout",
          "text": [
            "dfghjk37$%^&*vbhnj\n",
            "5\n"
          ]
        }
      ]
    },
    {
      "cell_type": "code",
      "source": [
        "#ex3\n",
        "string=input().split()\n",
        "count=0\n",
        "for a in string:\n",
        "  if a[:3]==\"Abo\":\n",
        "    count+=1\n",
        "print(count)"
      ],
      "metadata": {
        "colab": {
          "base_uri": "https://localhost:8080/"
        },
        "id": "RiI2G21-PkYs",
        "outputId": "a7512bc2-4fc5-4caf-9dbb-bb65a0345fb5"
      },
      "execution_count": 14,
      "outputs": [
        {
          "output_type": "stream",
          "name": "stdout",
          "text": [
            "Abogh fghj Abofgbhn Abo dfghjk fghj\n",
            "3\n"
          ]
        }
      ]
    },
    {
      "cell_type": "code",
      "source": [
        "#ex4"
      ],
      "metadata": {
        "id": "AekmR61HPkgO"
      },
      "execution_count": null,
      "outputs": []
    },
    {
      "cell_type": "code",
      "source": [
        "#ex5\n",
        "#1 2 3 4 5 6 7 8 9 10 11 12 13 14 15 16 17 18 19 20\n",
        "a=input().split()\n",
        "a.pop(-1)\n",
        "a.pop(-1)\n",
        "a.pop(-1)\n",
        "print(a[4::5])"
      ],
      "metadata": {
        "colab": {
          "base_uri": "https://localhost:8080/"
        },
        "id": "2Gm9QYfRPkvQ",
        "outputId": "e1f54692-2e76-4fee-f3ce-3a3b4c08c9c6"
      },
      "execution_count": 16,
      "outputs": [
        {
          "output_type": "stream",
          "name": "stdout",
          "text": [
            "1 2 3 4 5 6 7 8 9 10 11 12 13 14 15 16 17 18 19 20\n",
            "['5', '10', '15']\n"
          ]
        }
      ]
    },
    {
      "cell_type": "code",
      "source": [
        "#ex6\n",
        "list1, list2, list3, list4 = input(),input(),input(),input()\n",
        "common_items1 = list((Counter(list1) & Counter(list2)).elements())\n",
        "common_items2 = list((Counter(list3) & Counter(list4)).elements())\n",
        "common_items = list((Counter(common_items1) & Counter(common_items2)).elements())\n",
        "print(common_items)"
      ],
      "metadata": {
        "colab": {
          "base_uri": "https://localhost:8080/"
        },
        "id": "6t4GHXg6Ug1y",
        "outputId": "6a49d276-423f-4bd6-bb71-4674a04deecf"
      },
      "execution_count": 48,
      "outputs": [
        {
          "output_type": "stream",
          "name": "stdout",
          "text": [
            "qwerty\n",
            "tyuiop\n",
            "asdfgty\n",
            "tyuikl\n",
            "['t', 'y']\n"
          ]
        }
      ]
    },
    {
      "cell_type": "code",
      "source": [
        "#ex7\n",
        "nrows = 6\n",
        "ncols = 6\n",
        "a = np.random.randint(100, size=(nrows,ncols))\n",
        "print(a)\n",
        "def minor(arr,i,j):\n",
        "    # ith row, jth column removed\n",
        "    return arr[np.array(list(range(i))+list(range(i+1,arr.shape[0])))[:,np.newaxis],\n",
        "               np.array(list(range(j))+list(range(j+1,arr.shape[1])))]\n",
        "print(minor(a, 0, 5))\n",
        "b = np.linalg.det(minor(a, 0, 5))\n",
        "print(b)"
      ],
      "metadata": {
        "colab": {
          "base_uri": "https://localhost:8080/"
        },
        "id": "cW-4UyzxXtwK",
        "outputId": "960c6564-a95a-4a4f-9ca6-02fc04787db3"
      },
      "execution_count": 38,
      "outputs": [
        {
          "output_type": "stream",
          "name": "stdout",
          "text": [
            "[[34  0 18 63 11 71]\n",
            " [ 0 87 78  1 25 31]\n",
            " [96 79 20 27 44 42]\n",
            " [21 44  4 68 23 65]\n",
            " [59 48 24 96 41 71]\n",
            " [98 90 35 79 73 63]]\n",
            "[[ 0 87 78  1 25]\n",
            " [96 79 20 27 44]\n",
            " [21 44  4 68 23]\n",
            " [59 48 24 96 41]\n",
            " [98 90 35 79 73]]\n",
            "370946251.9999999\n"
          ]
        }
      ]
    },
    {
      "cell_type": "code",
      "source": [
        "#ex8\n",
        "def func(f, min_x, min_y, max_x, max_y, N):\n",
        "  x = np.linspace(min_x, max_y, N)\n",
        "  y = f(x)\n",
        "  plt.xscale('log')\n",
        "  plt.grid(True)\n",
        "  plt.plot(x, y, \":k\")\n",
        "  plt.ylim(min_y, max_y)\n",
        "  plt.savefig(\"function.jpg\")\n",
        "  plt.show\n",
        "\n",
        "f=lambda x: x**0.25\n",
        "N=100\n",
        "min_x=0\n",
        "min_y=0\n",
        "max_x=100\n",
        "max_y=4\n",
        "\n",
        "func(f, min_x, min_y, max_x, max_y, N)"
      ],
      "metadata": {
        "colab": {
          "base_uri": "https://localhost:8080/",
          "height": 273
        },
        "id": "S72QgBJMXty2",
        "outputId": "79ae5054-3456-433c-890e-98ed8c2e64e0"
      },
      "execution_count": 79,
      "outputs": [
        {
          "output_type": "display_data",
          "data": {
            "text/plain": [
              "<Figure size 432x288 with 1 Axes>"
            ],
            "image/png": "[encoded data removed]"
          },
          "metadata": {
            "needs_background": "light"
          }
        }
      ]
    },
    {
      "cell_type": "code",
      "source": [
        "#ex9"
      ],
      "metadata": {
        "id": "CQx_gHDoXt1q"
      },
      "execution_count": null,
      "outputs": []
    },
    {
      "cell_type": "code",
      "source": [
        "#ex10"
      ],
      "metadata": {
        "id": "AOMMNNeOXt4L"
      },
      "execution_count": null,
      "outputs": []
    },
    {
      "cell_type": "code",
      "source": [
        "#ex11"
      ],
      "metadata": {
        "id": "dF7WDSUmXt7t"
      },
      "execution_count": null,
      "outputs": []
    },
    {
      "cell_type": "code",
      "source": [
        "#ex12.1\n",
        "q = pd.read_csv(\"video-games.csv\")\n",
        "print (q.iloc[-1, 0])"
      ],
      "metadata": {
        "colab": {
          "base_uri": "https://localhost:8080/"
        },
        "id": "QduT0cuGd4hy",
        "outputId": "8ec6d3e7-1649-4304-8d95-f3dec673dcae"
      },
      "execution_count": 70,
      "outputs": [
        {
          "output_type": "stream",
          "name": "stdout",
          "text": [
            "1211\n"
          ]
        }
      ]
    },
    {
      "cell_type": "code",
      "source": [
        "#ex12.2\n",
        "by_years = q.groupby([\"year\"]).agg({\"title\":\"count\"})\n",
        "print(by_years)\n"
      ],
      "metadata": {
        "colab": {
          "base_uri": "https://localhost:8080/"
        },
        "id": "JR39tV_8lEl9",
        "outputId": "9ffa820a-2776-4f06-9277-b9e362594d9e"
      },
      "execution_count": 83,
      "outputs": [
        {
          "output_type": "stream",
          "name": "stdout",
          "text": [
            "      title\n",
            "year       \n",
            "2004     22\n",
            "2005    134\n",
            "2006    263\n",
            "2007    414\n",
            "2008    379\n"
          ]
        }
      ]
    },
    {
      "cell_type": "code",
      "source": [
        "#12.3\n",
        "mean_price = q.groupby([\"publisher\"]).agg({\"price\":\"mean\"})\n",
        "print(mean_price)"
      ],
      "metadata": {
        "colab": {
          "base_uri": "https://localhost:8080/"
        },
        "id": "pxlZh6mxlEo_",
        "outputId": "4dbcfc1f-e8ae-4ba6-bfb6-0cc4bcac64af"
      },
      "execution_count": 84,
      "outputs": [
        {
          "output_type": "stream",
          "name": "stdout",
          "text": [
            "                          price\n",
            "publisher                      \n",
            "2K                    13.705102\n",
            "Activision            18.191379\n",
            "Activision,Konami     17.950000\n",
            "Activision,Sony       12.950000\n",
            "Atari                 16.600000\n",
            "Atari,Namco           18.200000\n",
            "Capcom                17.464286\n",
            "Capcom,Nintendo       19.950000\n",
            "Capcom,Rockstar       17.950000\n",
            "Disney                14.350000\n",
            "EA                    15.477273\n",
            "EA,Namco              19.950000\n",
            "EA,Sony               16.950000\n",
            "Eidos                 16.995455\n",
            "Konami                16.907447\n",
            "Microsoft             16.711905\n",
            "Microsoft,SquareEnix  14.950000\n",
            "Midway                17.254348\n",
            "Namco                 19.919697\n",
            "Namco,Sony            18.950000\n",
            "Namco,Ubisoft         22.950000\n",
            "Nintendo              22.902941\n",
            "Nintendo,Sega         27.450000\n",
            "Nintendo,SquareEnix   16.950000\n",
            "Rockstar              18.366667\n",
            "Sega                  16.710000\n",
            "Sony                  17.300000\n",
            "Sony,Ubisoft          14.950000\n",
            "SquareEnix            18.466129\n",
            "THQ                   16.540164\n",
            "Ubisoft               16.841304\n"
          ]
        }
      ]
    },
    {
      "cell_type": "code",
      "source": [],
      "metadata": {
        "id": "w6-RBrlOlErW"
      },
      "execution_count": null,
      "outputs": []
    },
    {
      "cell_type": "code",
      "source": [],
      "metadata": {
        "id": "eMfPENOwlEu4"
      },
      "execution_count": null,
      "outputs": []
    }
  ]
}